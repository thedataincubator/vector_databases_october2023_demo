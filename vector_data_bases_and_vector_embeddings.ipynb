{
 "cells": [
  {
   "cell_type": "markdown",
   "id": "f35911e2",
   "metadata": {
    "slideshow": null
   },
   "source": [
    "# Vector databases\n",
    "\n",
    "<!-- testing: ignore -->"
   ]
  },
  {
   "cell_type": "markdown",
   "id": "27dfa34f",
   "metadata": {
    "slideshow": null
   },
   "source": [
    "## Learning outcomes"
   ]
  },
  {
   "cell_type": "markdown",
   "id": "b41fb75f",
   "metadata": {
    "slideshow": null
   },
   "source": [
    "By the end of this session, you should be able to:\n",
    "\n",
    "* Define vector databases and semantic vectors in your own words.\n",
    "* List common applications for vector databases.\n",
    "* Describe how to use semantic vector representations to solve a business problem.\n",
    "* List the limitations of vector databases and semantic vectors."
   ]
  },
  {
   "cell_type": "markdown",
   "id": "349f373d",
   "metadata": {
    "slideshow": null
   },
   "source": [
    "## Vector databases introduction"
   ]
  },
  {
   "cell_type": "markdown",
   "id": "f9b89bfb",
   "metadata": {
    "slideshow": null
   },
   "source": [
    "Vector databases are specialized databases designed to efficiently handle data in vector form. Vectors are arrays of float values. That collection of values encode other complex data, such as text. Vector representations can improve performance across a wide range of applications, including machine learning and information retrieval. To scale these data-driven applications, vector databases support the rapid retrieval of large sets of relevant vectors. Traditional relational databases are not optimized for vector-based queries and can be extremely slow when performing those operations. Vector databases support ML and AI at scale and in production environments by making vector data more accessible. "
   ]
  },
  {
   "cell_type": "markdown",
   "id": "e798b4da",
   "metadata": {
    "slideshow": null
   },
   "source": [
    "## Semantic vectors introduction"
   ]
  },
  {
   "cell_type": "markdown",
   "id": "89a0bc55",
   "metadata": {
    "slideshow": null
   },
   "source": [
    "As stated above, vectors are arrays of float point numbers. These vectors serve as compact, dense representations of complex data, such as text, images, sound, or video. These vectors are fixed-length. No matter the size of the object they are encoding, the resulting vector is always the same size. Vectors are easier for machines to understand and process than those other complex data types. The vectors typically used in vector databases encode semantic (i.e., meaning) information about the entities. \n",
    "\n",
    "One result of using semantic vectors is the distance between two vectors measures the relatedness of the underlying entities. Small distances suggest high relatedness, and large distances suggest low relatedness. For example, the vectors for \"dog\" and \"cat\" should be closer to each other than the vectors for \"dog\" and \"penguin\". Semantic vectors are important modern artificial intelligence (AI) applications because all ML algorithms require data to be numerically encoded. Semantic are numerical encoded data where distance is meaningful. If data can be encoded as a semantic vector, it can be used in ML. \n",
    "\n",
    "Semantic vectors are also called vector embeddings or simply embeddings."
   ]
  },
  {
   "cell_type": "markdown",
   "id": "286be5e4",
   "metadata": {
    "slideshow": null
   },
   "source": [
    "## Vector database operations and applications"
   ]
  },
  {
   "cell_type": "markdown",
   "id": "19a2a426",
   "metadata": {
    "slideshow": null
   },
   "source": [
    "Vector databases can perform the standard database operations of insertion, update, deletion, and retrieval of specific records. Since vector databases store semantic vectors they support additional operations. The most common vector operation is finding the most similar vectors to a given query vector, aka nearest neighbor search. Since each vector is high-dimensional (hundreds to thousands of floats) and there are often many vectors (thousands, millions, or billions), this can be computationally expensive. Nearest neighbor search can support many applications:\n",
    "\n",
    "* **Recommendations** Given a query entity, find nearby related entities.\n",
    "\n",
    "* **Search** Given a query entity, return results ranked by relevance.\n",
    "\n",
    "* **Clustering** Group entities by similarity.\n",
    "\n",
    "* **Anomaly Detection**: Identify dissimilar entities to a set of reference entities.\n",
    "\n",
    "* **Classification**: Assign a label to an entity."
   ]
  },
  {
   "cell_type": "markdown",
   "id": "f1f037ee",
   "metadata": {
    "slideshow": null
   },
   "source": [
    "## Demo of segmenting businesses with vector embeddings"
   ]
  },
  {
   "cell_type": "markdown",
   "id": "ed60930d",
   "metadata": {
    "slideshow": null
   },
   "source": [
    "One common use case for semantic vectors and vector databases is clustering text data. Semantic vectors are currently the best way to encode text data to then be used as input features for machine learning clustering. Clustering is grouping items together based on similarity. In the case of semantic vectors, similarity minimizes the distance between words.\n",
    "\n",
    "In the following demo, we are going to segment businesses. We'll cluster service stations from the United Kingdom together based on vector representations of their respective text profiles.\n",
    "\n",
    "Here is a preview of the steps:\n",
    "\n",
    "1. Get embeddings for each service station profile.\n",
    "1. Cluster similar service station profiles together based on those embeddings.\n",
    "1. Evaluate the clusters, and try to improve them."
   ]
  },
  {
   "cell_type": "markdown",
   "id": "ed8d2ffe",
   "metadata": {
    "slideshow": null
   },
   "source": [
    "We'll use OpenAI embeddings. OpenAI is more well-known for ChatGPT. The same organization also provides high quality text embeddings through its API. Similar large language models (LLM) power both ChatGPT and text embeddings."
   ]
  },
  {
   "cell_type": "code",
   "execution_count": 1,
   "id": "d9e78a87",
   "metadata": {
    "slideshow": null
   },
   "outputs": [],
   "source": [
    "import os\n",
    "import openai\n",
    "\n",
    "openai.api_key = os.environ[\"OPENAI_API_KEY\"]"
   ]
  },
  {
   "cell_type": "markdown",
   "id": "469814ef",
   "metadata": {
    "slideshow": null
   },
   "source": [
    "Call the OpenAI API to get an embedding for a piece of text."
   ]
  },
  {
   "cell_type": "code",
   "execution_count": 2,
   "id": "fa5b84a1",
   "metadata": {
    "slideshow": null
   },
   "outputs": [
    {
     "data": {
      "text/plain": [
       "[0.0014531221240758896, 0.0028919042088091373]"
      ]
     },
     "execution_count": 2,
     "metadata": {},
     "output_type": "execute_result"
    }
   ],
   "source": [
    "# Text to embed\n",
    "text_string = \"Hello, world!\"\n",
    "\n",
    "# Embedding model\n",
    "model_id = \"text-embedding-ada-002\"\n",
    "\n",
    "# Get the embedding of the text\n",
    "embedding = openai.Embedding.create(input=text_string, engine=model_id)['data'][0]['embedding']\n",
    "embedding[:2]"
   ]
  },
  {
   "cell_type": "code",
   "execution_count": 3,
   "id": "182b1c62",
   "metadata": {
    "slideshow": null
   },
   "outputs": [
    {
     "name": "stdout",
     "output_type": "stream",
     "text": [
      "Each embedding is composed of 1,536 floats.\n"
     ]
    }
   ],
   "source": [
    "print(f\"Each embedding is composed of {len(embedding):,} floats.\")"
   ]
  },
  {
   "cell_type": "markdown",
   "id": "d8740b00",
   "metadata": {
    "slideshow": null
   },
   "source": [
    "### What happens if you have a lot of vectors?\n",
    "\n",
    "If you had a separate embedding for 10 millions customers profiles, how large would that data in bytes?\n",
    "\n",
    "\n",
    "1. A float is typically 8 bytes in size. <br>  \n",
    "2. Each vector has 1,536 floats.  <br>\n",
    "3. There are 10 million such vectors. <br>   \n",
    "    \n",
    "The size of each vector in bytes would be 1,536 floats X 8 bytes/float = 12,288 bytes.\n",
    "\n",
    "The size of 10 million such vectors would be 10,000,000 vectors X 12,288 bytes/vector = 122,880,000,000 bytes, 122.88 GB.  \n",
    "\n",
    "Thus, a vector databases would be useful.\n"
   ]
  },
  {
   "cell_type": "markdown",
   "id": "440df716",
   "metadata": {
    "slideshow": null
   },
   "source": [
    "As mentioned earlier, we can compare measure distance between two vector embeddings. The closer the distance, the more similar the items. Let's write a helper function that passes a string to the OpenAI API and casts the returned Python list as a NumPy vector."
   ]
  },
  {
   "cell_type": "code",
   "execution_count": 4,
   "id": "338e6b2e",
   "metadata": {
    "slideshow": null
   },
   "outputs": [],
   "source": [
    "import numpy as np\n",
    "\n",
    "def get_embedding(string, model_id=\"text-embedding-ada-002\"):\n",
    "    embedding_as_list = openai.Embedding.create(input=string, engine=model_id)['data'][0]['embedding']\n",
    "    embedding_as_array = np.array(embedding_as_list)\n",
    "    return embedding_as_array"
   ]
  },
  {
   "cell_type": "markdown",
   "id": "a63e5ac8",
   "metadata": {
    "slideshow": null
   },
   "source": [
    "Let's get the vector representations for a couple of animals."
   ]
  },
  {
   "cell_type": "code",
   "execution_count": 5,
   "id": "5e6749b6",
   "metadata": {
    "slideshow": null
   },
   "outputs": [],
   "source": [
    "dog_vector = get_embedding(\"dog\")\n",
    "cat_vector = get_embedding(\"cat\")\n",
    "penguin_vector = get_embedding(\"penguin\")"
   ]
  },
  {
   "cell_type": "markdown",
   "id": "7b3e85b4",
   "metadata": {
    "slideshow": null
   },
   "source": [
    "We can now compare Euclidean distance, aka \"as the crow flies\", between those two of those embeddings."
   ]
  },
  {
   "cell_type": "code",
   "execution_count": 6,
   "id": "dfeedaea",
   "metadata": {
    "slideshow": null
   },
   "outputs": [
    {
     "data": {
      "text/plain": [
       "0.5225002841541313"
      ]
     },
     "execution_count": 6,
     "metadata": {},
     "output_type": "execute_result"
    }
   ],
   "source": [
    "distance_dog_to_cat = np.linalg.norm(dog_vector - cat_vector)\n",
    "distance_dog_to_cat"
   ]
  },
  {
   "cell_type": "code",
   "execution_count": 7,
   "id": "e7bf61a9",
   "metadata": {
    "slideshow": null
   },
   "outputs": [
    {
     "data": {
      "text/plain": [
       "0.617644981045929"
      ]
     },
     "execution_count": 7,
     "metadata": {},
     "output_type": "execute_result"
    }
   ],
   "source": [
    "distance_dog_to_penguin = np.linalg.norm(dog_vector - penguin_vector)\n",
    "distance_dog_to_penguin"
   ]
  },
  {
   "cell_type": "markdown",
   "id": "635a7dc7",
   "metadata": {
    "slideshow": null
   },
   "source": [
    "The distance is smaller between dog and cat than dog and penguin which means dog is semantically closer to a cat than a penguin. "
   ]
  },
  {
   "cell_type": "markdown",
   "id": "d4d8bc42",
   "metadata": {
    "slideshow": null
   },
   "source": [
    "We can use that same logic to compare the text from longer documents. Here are profiles of fictional service stations in the United Kingdom."
   ]
  },
  {
   "cell_type": "code",
   "execution_count": 8,
   "id": "90dbbc37",
   "metadata": {
    "slideshow": null
   },
   "outputs": [],
   "source": [
    "profiles = [\n",
    "    \"Green Fuel Oasis, Surrey: Nestled in the picturesque countryside of Surrey, Green Fuel Oasis is a sustainable service station that offers a unique blend of eco-conscious services. Not only can you refuel your vehicle with clean, renewable energy options like battery recharging, bioethanol, and  biodiesel.\",\n",
    "    \"Coastal Retreat Rest Stop, Cornwall: Located along the rugged coastline of Cornwall, this service station is a haven for travelers seeking relaxation. With breathtaking ocean views, it's the perfect spot to take a break, refuel, and savor locally sourced seafood at the seafood grill. Don't forget to explore the coastal walking trails nearby.\",\n",
    "    \"TechHub Express, Manchester: For the tech-savvy traveler, TechHub Express in Manchester is a cutting-edge service station. Offering fast Wi-Fi, stations for electric vehicles, a variety of biofuels, and a state-of-the-art VR gaming lounge, it's a place where you can recharge both your car and your devices while having a blast.\",\n",
    "    \"Highland Haven, Scotland: Situated amidst the stunning Scottish Highlands, Highland Haven is a serene service station catering to adventurers exploring the rugged landscapes. Sample traditional Scottish fare at the cozy café, all while gazing at panoramic mountain vistas.\",\n",
    "    \"Countryside Classic, Cotswolds: Experience the charm of the Cotswolds at Countryside Classic, a service station that embodies the region's quintessential beauty. This idyllic spot and serves up classic British tea and scones in a quaint, cottage-style café surrounded by rolling hills and historic villages.\"\n",
    "]"
   ]
  },
  {
   "cell_type": "markdown",
   "id": "0499fdf8",
   "metadata": {
    "slideshow": null
   },
   "source": [
    "Looking at the profiles, which ones seem similar to each other?"
   ]
  },
  {
   "cell_type": "code",
   "execution_count": 9,
   "id": "061110df",
   "metadata": {
    "slideshow": null
   },
   "outputs": [
    {
     "name": "stdout",
     "output_type": "stream",
     "text": [
      "Green Fuel Oasis, Surrey: Nestled in the picturesque countryside of Surrey, Green Fuel Oasis is a sustainable service station that offers a unique blend of eco-conscious services. Not only can you refuel your vehicle with clean, renewable energy options like battery recharging, bioethanol, and  biodiesel.\n",
      "####################\n",
      "Coastal Retreat Rest Stop, Cornwall: Located along the rugged coastline of Cornwall, this service station is a haven for travelers seeking relaxation. With breathtaking ocean views, it's the perfect spot to take a break, refuel, and savor locally sourced seafood at the seafood grill. Don't forget to explore the coastal walking trails nearby.\n",
      "####################\n",
      "TechHub Express, Manchester: For the tech-savvy traveler, TechHub Express in Manchester is a cutting-edge service station. Offering fast Wi-Fi, stations for electric vehicles, a variety of biofuels, and a state-of-the-art VR gaming lounge, it's a place where you can recharge both your car and your devices while having a blast.\n",
      "####################\n",
      "Highland Haven, Scotland: Situated amidst the stunning Scottish Highlands, Highland Haven is a serene service station catering to adventurers exploring the rugged landscapes. Sample traditional Scottish fare at the cozy café, all while gazing at panoramic mountain vistas.\n",
      "####################\n",
      "Countryside Classic, Cotswolds: Experience the charm of the Cotswolds at Countryside Classic, a service station that embodies the region's quintessential beauty. This idyllic spot and serves up classic British tea and scones in a quaint, cottage-style café surrounded by rolling hills and historic villages.\n",
      "####################\n"
     ]
    }
   ],
   "source": [
    "for profile in profiles:\n",
    "    print(profile)\n",
    "    print(\"#\"*20)"
   ]
  },
  {
   "cell_type": "markdown",
   "id": "1d545dcc",
   "metadata": {
    "slideshow": null
   },
   "source": [
    "Let's call the OpenAI API to get a embedding for each profile. "
   ]
  },
  {
   "cell_type": "code",
   "execution_count": 10,
   "id": "8a84df85",
   "metadata": {
    "slideshow": null
   },
   "outputs": [],
   "source": [
    "profiles_vectorized  = []\n",
    "\n",
    "for profile in profiles:\n",
    "    embedding = openai.Embedding.create(input=profile, engine=model_id)['data'][0]['embedding']\n",
    "    profiles_vectorized.append(embedding)"
   ]
  },
  {
   "cell_type": "markdown",
   "id": "6c0410bb",
   "metadata": {
    "slideshow": null
   },
   "source": [
    "Each text profile has been encoded as a single vector."
   ]
  },
  {
   "cell_type": "code",
   "execution_count": 11,
   "id": "b9007f7e",
   "metadata": {
    "slideshow": null
   },
   "outputs": [
    {
     "name": "stdout",
     "output_type": "stream",
     "text": [
      "[0.012512183748185635, -0.006786952260881662, -0.012209794484078884]\n",
      "[0.0034489489626139402, -0.013403340242803097, 0.01063619926571846]\n",
      "[-0.0031966629903763533, -0.0052318209782242775, -0.007783764973282814]\n",
      "[0.0053925723768770695, -0.01785260997712612, 0.012269635684788227]\n",
      "[-0.0010894560255110264, 0.0055679637007415295, 0.0067053623497486115]\n"
     ]
    }
   ],
   "source": [
    "for profile in profiles_vectorized:\n",
    "    print(profile[:3])"
   ]
  },
  {
   "cell_type": "markdown",
   "id": "7be0a401",
   "metadata": {
    "slideshow": null
   },
   "source": [
    "Since the data has been encoded as numerical values, it is amenable to machine learning. We are going to perform k-means clustering. K-means clustering is a popular unsupervised machine learning algorithm used for partitioning a dataset into a set of distinct groups or clusters. K-means clustering does this by iteratively assigning data points to the cluster whose centroid (center) is nearest and updating the centroids based on the mean of the assigned data points, ultimately seeking to minimize the sum of squared distances between data points and their respective centroids. We'll use Python's scikit-learn library, the most popular machine learning library for traditional machine learning."
   ]
  },
  {
   "cell_type": "code",
   "execution_count": 13,
   "id": "832417b8",
   "metadata": {
    "slideshow": null
   },
   "outputs": [],
   "source": [
    "from sklearn.cluster import KMeans\n",
    "\n",
    "kmeans = KMeans(n_clusters=2, # Try n_clusters=2 and n_clusters=3\n",
    "                n_init='auto',\n",
    "                random_state=40,\n",
    "               )\n",
    "\n",
    "kmeans.fit(profiles_vectorized);"
   ]
  },
  {
   "cell_type": "markdown",
   "id": "2ec948bd",
   "metadata": {
    "slideshow": null
   },
   "source": [
    "Let's look at the results to see which text profile ended up in which group."
   ]
  },
  {
   "cell_type": "code",
   "execution_count": 14,
   "id": "7b7c37c1",
   "metadata": {
    "slideshow": null
   },
   "outputs": [
    {
     "data": {
      "text/html": [
       "<div>\n",
       "<style scoped>\n",
       "    .dataframe tbody tr th:only-of-type {\n",
       "        vertical-align: middle;\n",
       "    }\n",
       "\n",
       "    .dataframe tbody tr th {\n",
       "        vertical-align: top;\n",
       "    }\n",
       "\n",
       "    .dataframe thead th {\n",
       "        text-align: right;\n",
       "    }\n",
       "</style>\n",
       "<table border=\"1\" class=\"dataframe\">\n",
       "  <thead>\n",
       "    <tr style=\"text-align: right;\">\n",
       "      <th></th>\n",
       "      <th>cluster</th>\n",
       "      <th>text</th>\n",
       "    </tr>\n",
       "  </thead>\n",
       "  <tbody>\n",
       "    <tr>\n",
       "      <th>0</th>\n",
       "      <td>0</td>\n",
       "      <td>Coastal Retreat Rest Stop, Cornwall: Located a...</td>\n",
       "    </tr>\n",
       "    <tr>\n",
       "      <th>1</th>\n",
       "      <td>0</td>\n",
       "      <td>Highland Haven, Scotland: Situated amidst the ...</td>\n",
       "    </tr>\n",
       "    <tr>\n",
       "      <th>2</th>\n",
       "      <td>0</td>\n",
       "      <td>Countryside Classic, Cotswolds: Experience the...</td>\n",
       "    </tr>\n",
       "    <tr>\n",
       "      <th>3</th>\n",
       "      <td>1</td>\n",
       "      <td>Green Fuel Oasis, Surrey: Nestled in the pictu...</td>\n",
       "    </tr>\n",
       "    <tr>\n",
       "      <th>4</th>\n",
       "      <td>1</td>\n",
       "      <td>TechHub Express, Manchester: For the tech-savv...</td>\n",
       "    </tr>\n",
       "  </tbody>\n",
       "</table>\n",
       "</div>"
      ],
      "text/plain": [
       "   cluster                                               text\n",
       "0        0  Coastal Retreat Rest Stop, Cornwall: Located a...\n",
       "1        0  Highland Haven, Scotland: Situated amidst the ...\n",
       "2        0  Countryside Classic, Cotswolds: Experience the...\n",
       "3        1  Green Fuel Oasis, Surrey: Nestled in the pictu...\n",
       "4        1  TechHub Express, Manchester: For the tech-savv..."
      ]
     },
     "execution_count": 14,
     "metadata": {},
     "output_type": "execute_result"
    }
   ],
   "source": [
    "import pandas as pd\n",
    "\n",
    "df = pd.DataFrame({\n",
    "    \"cluster\": kmeans.labels_,\n",
    "    \"text\": profiles,\n",
    "}).sort_values(by=['cluster']).reset_index(drop=True)\n",
    "df"
   ]
  },
  {
   "cell_type": "markdown",
   "id": "dee7354b",
   "metadata": {
    "slideshow": null
   },
   "source": [
    "Looking at the two clusters, one cluster is focused on the \"food\" topic, and the other cluster is focused on the \"tech\" topic.\n",
    "\n",
    "Looking at the text of the two tech groups, there are no meaningful words common in both. Instead of matching on common words, the embeddings pick up on the semantic similarities. The results are matches profiles on the underlying meaning behind the words."
   ]
  },
  {
   "cell_type": "code",
   "execution_count": 15,
   "id": "4e215a18",
   "metadata": {
    "slideshow": null
   },
   "outputs": [
    {
     "name": "stdout",
     "output_type": "stream",
     "text": [
      "Green Fuel Oasis, Surrey: Nestled in the picturesque countryside of Surrey, Green Fuel Oasis is a sustainable service station that offers a unique blend of eco-conscious services. Not only can you refuel your vehicle with clean, renewable energy options like battery recharging, bioethanol, and  biodiesel.\n",
      "####################\n",
      "TechHub Express, Manchester: For the tech-savvy traveler, TechHub Express in Manchester is a cutting-edge service station. Offering fast Wi-Fi, stations for electric vehicles, a variety of biofuels, and a state-of-the-art VR gaming lounge, it's a place where you can recharge both your car and your devices while having a blast.\n"
     ]
    }
   ],
   "source": [
    "print(profiles[0])\n",
    "print(\"#\"*20)\n",
    "print(profiles[2])"
   ]
  },
  {
   "cell_type": "markdown",
   "id": "dc001ae6",
   "metadata": {
    "slideshow": null
   },
   "source": [
    "### Extending this example with vector databases"
   ]
  },
  {
   "cell_type": "markdown",
   "id": "a5e5477b",
   "metadata": {
    "slideshow": null
   },
   "source": [
    "In this example, we only had a couple of examples. It is more common to have thousands or millions of examples. ML algorithms become very computationally intensive at that scale, especially algorithms like k-means clustering. Vector databases are designed to manage vectors and vectors-based operations at that scale. Vector databases will have algorithms optimized for vector computation. Since vector databases do not support general-purpose computing, they can be much faster at specific vector tasks. \n",
    "\n",
    "One primary reason to use vector databases is to persist the vectors for later. Right now, the vectors are only in memory. If the computer restarts, the vector information will be lost. Additionally, vector databases can cache, aka store, the embeddings so we do not need to call the OpenAI API again for the same item. This is important because every call to OpenAI API costs money. Additionally, vector databases should be faster and more reliable than an API call.  "
   ]
  },
  {
   "cell_type": "markdown",
   "id": "388724ba",
   "metadata": {
    "slideshow": null
   },
   "source": [
    "## Common vector database solutions"
   ]
  },
  {
   "cell_type": "markdown",
   "id": "2d7e1c1f",
   "metadata": {
    "slideshow": null
   },
   "source": [
    "The following is a selection of the most common vector databases:\n",
    "\n",
    "* **pgvector**: A Postgres extension to store vector embeddings and perform vector similarity search. The advantages of pgvector are that it is open source and works with Postgres, a popular relational database management system (RDBMS).\n",
    "\n",
    "* **Elasticsearch**: A search system that includes a vector database. The advantages of Elasticsearch are that is a popular search system and is open source.\n",
    "\n",
    "* **Pinecone**: A fully-managed vector database designed for machine learning applications. Advantages of Pinecone is that it is highly performant and scalable.\n",
    "\n",
    "* **Milvus**: An open-source vector database. The advantages of Milvus are that is free to use and supports the most common vector database operations."
   ]
  },
  {
   "cell_type": "markdown",
   "id": "87fb3e93",
   "metadata": {
    "slideshow": null
   },
   "source": [
    "## The advantages and limitations vector databases"
   ]
  },
  {
   "cell_type": "markdown",
   "id": "ab54c376",
   "metadata": {
    "slideshow": null
   },
   "source": [
    "As discussed previously, the primary advantages of vector databases are speed, scalability, and providing fundamental data operations, such as ACID (Atomicity, Consistency, Isolation, and Durability) for vector data types.\n",
    "\n",
    "There are also limitations to vector databases. Vector databases are currently in the Gartner Hype Cycle's \"Peak of Inflated Expectations\". Vector databases provide value, but the current hype might be inflating the value. This is similar to the position that MongoDB was in several years ago. MongoDB has been proven to be useful as a document database but was over-used for a period of time. Another limitation is the specific business use case might not be clear yet. Before adopting a vector database, make sure there is a clear ROI for the project and organization. Probably the biggest limitation is that a vector database is yet another separate tool to maintain. Businesses might want vector operations but not need a separate system just to support those operations. A vector extension for existing databases, such as pgvector for Postgres, might provide enough functionality with minimal additional complexity."
   ]
  },
  {
   "cell_type": "markdown",
   "id": "e1330e03",
   "metadata": {
    "slideshow": null
   },
   "source": [
    "## Other vector systems"
   ]
  },
  {
   "cell_type": "markdown",
   "id": "5f1987ad",
   "metadata": {
    "slideshow": null
   },
   "source": [
    "There might not be a need for a vector database solution, but it might be useful to have vector capabilities. The following are solutions that provide vector-based capabilities. \n",
    "\n",
    "* **Faiss (Facebook AI similarity search)**: Faiss is a library for efficient similarity search and clustering of  vectors. Written in C++ with complete wrappers for Python and NumPy. \n",
    "\n",
    "* **Annoy (Approximate Nearest Neighbors Oh Yeah)**:  Annoy is another library for approximate nearest neighbor search. It is optimized for high-dimensional vectors and provides Python bindings. Developed by Spotify, Spotify recommendations are often powered by vector embeddings of song and related information."
   ]
  },
  {
   "cell_type": "markdown",
   "id": "d93404b5",
   "metadata": {
    "slideshow": null
   },
   "source": [
    "## Limitations of semantic vectors"
   ]
  },
  {
   "cell_type": "markdown",
   "id": "649546df",
   "metadata": {
    "slideshow": null
   },
   "source": [
    "All semantic vectors only summarize the training data. Whatever social biases, stereotypes, and negative sentiments towards certain groups that are in the training data will be reflected in the vector representations. It is a best practice to evaluate a set of vector embeddings for your specific use case. It might make sense to train custom vector embeddings or add additional control logic to minimize bias in end-user applications."
   ]
  },
  {
   "cell_type": "markdown",
   "id": "399ac6d3",
   "metadata": {
    "slideshow": null
   },
   "source": [
    "## Conclusion"
   ]
  },
  {
   "cell_type": "markdown",
   "id": "8bdc8142",
   "metadata": {
    "slideshow": null
   },
   "source": [
    "* Vector databases store vectors and have specialized operations for those vectors.\n",
    "\n",
    "* The vectors are fixed-length arrays of floating point numbers that represent semantic information about complex objects. \n",
    "\n",
    "* Finding the nearest neighbors of vectors that can solve a wide variety of business problems."
   ]
  },
  {
   "cell_type": "markdown",
   "id": "a090b25f",
   "metadata": {
    "slideshow": null
   },
   "source": [
    "*Copyright &copy; 2023 Pragmatic Institute. This content is licensed solely for personal use. Redistribution or publication of this material is strictly prohibited.*"
   ]
  }
 ],
 "metadata": {
  "kernelspec": {
   "display_name": "Python 3 (ipykernel)",
   "language": "python",
   "name": "python3"
  },
  "language_info": {
   "codemirror_mode": {
    "name": "ipython",
    "version": 3
   },
   "file_extension": ".py",
   "mimetype": "text/x-python",
   "name": "python",
   "nbconvert_exporter": "python",
   "pygments_lexer": "ipython3",
   "version": "3.9.16"
  },
  "nbclean": true
 },
 "nbformat": 4,
 "nbformat_minor": 5
}
